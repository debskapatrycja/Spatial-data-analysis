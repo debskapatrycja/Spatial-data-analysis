{
 "cells": [
  {
   "cell_type": "markdown",
   "id": "5a831b85",
   "metadata": {},
   "source": [
    "# Generating Poisson processes\n"
   ]
  },
  {
   "cell_type": "code",
   "execution_count": null,
   "id": "b4a82c64",
   "metadata": {},
   "outputs": [],
   "source": [
    "import numpy as np\n",
    "import pandas as pd\n",
    "import scipy as sp\n",
    "import matplotlib as mpl\n",
    "import matplotlib.pyplot as plt\n",
    "import seaborn as sns\n",
    "import geopandas as gpd"
   ]
  },
  {
   "cell_type": "markdown",
   "id": "626998c2",
   "metadata": {},
   "source": [
    "## Regular Poisson process on rectangle"
   ]
  },
  {
   "cell_type": "code",
   "execution_count": null,
   "id": "3c7790ce",
   "metadata": {},
   "outputs": [],
   "source": [
    "def regular_on_rectangle(grid, random_component, x_lim, y_lim):\n",
    "    dx = (x_lim[1] - x_lim[0])/grid[0]\n",
    "    dy = (y_lim[1] - y_lim[0])/grid[1]\n",
    "    mx = np.linspace(x_lim[0] + dx/2, x_lim[1] - dx/2, grid[0])\n",
    "    my = np.linspace(y_lim[0] + dy/2, y_lim[1] - dy/2, grid[1])\n",
    "    px,py=np.meshgrid(mx,my)\n",
    "    rx = np.random.rand(grid[1],grid[0])* dx - dx/2\n",
    "    ry = np.random.rand(grid[1],grid[0])* dy - dy/2\n",
    "    px=px+random_component*rx\n",
    "    py=py+random_component*ry\n",
    "    p={'X':px.flatten(), 'Y':py.flatten()}\n",
    "    points=pd.DataFrame(p)\n",
    "    return points"
   ]
  },
  {
   "cell_type": "markdown",
   "id": "4ac1a550",
   "metadata": {},
   "source": [
    "### Generating exemplary process"
   ]
  },
  {
   "cell_type": "code",
   "execution_count": null,
   "id": "d1b0ee53",
   "metadata": {},
   "outputs": [],
   "source": [
    "points=regular_on_rectangle([20,10],0.5,[0,20],[0,10])"
   ]
  },
  {
   "cell_type": "markdown",
   "id": "d0a5dfc1",
   "metadata": {},
   "source": [
    "### Visualisation"
   ]
  },
  {
   "cell_type": "code",
   "execution_count": null,
   "id": "ca1ce43e",
   "metadata": {},
   "outputs": [],
   "source": [
    "fig, ax1=plt.subplots(figsize=(10,10))\n",
    "sns.scatterplot(data=points,x=\"X\",y=\"Y\")\n",
    "ax1.set_title(\"Regular Poisson process\", fontsize=20)\n",
    "plt.xlabel(\"X\", fontsize=15)\n",
    "plt.ylabel(\"Y\", fontsize=15)\n",
    "ax1.set_aspect('equal', 'box')"
   ]
  },
  {
   "cell_type": "markdown",
   "id": "3ca765aa",
   "metadata": {},
   "source": [
    "## Homogeneous Poisson process on rectangle"
   ]
  },
  {
   "cell_type": "code",
   "execution_count": null,
   "id": "b1b96f24",
   "metadata": {},
   "outputs": [],
   "source": [
    "def homogeneous_poisson_on_rectangle(intensity, x_lim, y_lim):\n",
    "    a = (abs(x_lim[1]-x_lim[0]))*(abs(y_lim[1]-y_lim[0]))\n",
    "    ex = intensity*a\n",
    "    n = np.random.poisson(lam=ex, size=1)\n",
    "    nn=n[0]\n",
    "    x=np.random.rand(nn)*(x_lim[1]-x_lim[0])+x_lim[0]\n",
    "    y=np.random.rand(nn)*(y_lim[1]-y_lim[0])+y_lim[0]\n",
    "    p={\"X\":x.flatten(),\"Y\":y.flatten()}\n",
    "    points=pd.DataFrame(p)\n",
    "    return points"
   ]
  },
  {
   "cell_type": "markdown",
   "id": "78c9919b",
   "metadata": {},
   "source": [
    "### Generating exemplary process"
   ]
  },
  {
   "cell_type": "code",
   "execution_count": null,
   "id": "5883fe9a",
   "metadata": {},
   "outputs": [],
   "source": [
    "points=homogeneous_poisson_on_rectangle(10,[0,20],[0,10])"
   ]
  },
  {
   "cell_type": "markdown",
   "id": "0bc2157a",
   "metadata": {},
   "source": [
    "### Visualisation"
   ]
  },
  {
   "cell_type": "code",
   "execution_count": null,
   "id": "223ff3fa",
   "metadata": {
    "scrolled": true
   },
   "outputs": [],
   "source": [
    "fig, ax1=plt.subplots(figsize=(10,10))\n",
    "sns.scatterplot(data=points,x=\"X\",y=\"Y\")\n",
    "ax1.set_title(\"Homogeneous Poisson process\", fontsize=20)\n",
    "plt.xlabel(\"X\", fontsize=15)\n",
    "plt.ylabel(\"Y\", fontsize=15)\n",
    "ax1.set_aspect('equal', 'box')"
   ]
  },
  {
   "cell_type": "markdown",
   "id": "1352e26c",
   "metadata": {},
   "source": [
    "## Unhomogeneous Poisson process on rectangle"
   ]
  },
  {
   "cell_type": "code",
   "execution_count": null,
   "id": "1e0487ba",
   "metadata": {},
   "outputs": [],
   "source": [
    "def unhomogeneous_poisson_on_rectangle(intensity_function, x_lim, y_lim):\n",
    "    srx=(x_lim[0]+x_lim[1])/2\n",
    "    sry=(y_lim[0]+y_lim[1])/2\n",
    "    max_fun=sp.optimize.minimize(lambda x: -intensity_function(x), (srx, sry), bounds=((x_lim[0], x_lim[1]),(y_lim[0], y_lim[1])))\n",
    "    points=homogeneous_poisson_on_rectangle(-max_fun.fun,x_lim,y_lim)\n",
    "    points_probability=1-intensity_function([points[\"X\"],points[\"Y\"]])/-max_fun.fun\n",
    "    a=np.zeros(points[\"X\"].size)\n",
    "    for i in range(points[\"X\"].size):\n",
    "        a[i]=np.random.choice([1,0],p=[points_probability[i],1-points_probability[i]])\n",
    "    points2_a=np.where(a==0)\n",
    "    points=points.loc[points2_a]\n",
    "    return points"
   ]
  },
  {
   "cell_type": "markdown",
   "id": "8fa9807f",
   "metadata": {},
   "source": [
    "### Generating exemplary process"
   ]
  },
  {
   "cell_type": "code",
   "execution_count": null,
   "id": "24a92c75",
   "metadata": {},
   "outputs": [],
   "source": [
    "points=unhomogeneous_poisson_on_rectangle(lambda x:x[0], [0,20], [0,10])"
   ]
  },
  {
   "cell_type": "markdown",
   "id": "599c3615",
   "metadata": {},
   "source": [
    "### Visualisation"
   ]
  },
  {
   "cell_type": "code",
   "execution_count": null,
   "id": "36f12023",
   "metadata": {},
   "outputs": [],
   "source": [
    "fig, ax1=plt.subplots(figsize=(10,10))\n",
    "sns.scatterplot(data=points,x=\"X\",y=\"Y\")\n",
    "ax1.set_title(\"Unhomogeneous Poisson process\", fontsize=20)\n",
    "plt.xlabel(\"X\", fontsize=15)\n",
    "plt.ylabel(\"Y\", fontsize=15)\n",
    "ax1.set_aspect('equal', 'box')"
   ]
  }
 ],
 "metadata": {
  "kernelspec": {
   "display_name": "Python 3 (ipykernel)",
   "language": "python",
   "name": "python3"
  },
  "language_info": {
   "codemirror_mode": {
    "name": "ipython",
    "version": 3
   },
   "file_extension": ".py",
   "mimetype": "text/x-python",
   "name": "python",
   "nbconvert_exporter": "python",
   "pygments_lexer": "ipython3",
   "version": "3.9.12"
  }
 },
 "nbformat": 4,
 "nbformat_minor": 5
}
