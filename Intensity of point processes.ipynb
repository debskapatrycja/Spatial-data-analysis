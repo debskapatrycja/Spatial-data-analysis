{
 "cells": [
  {
   "cell_type": "markdown",
   "id": "b07d79f9",
   "metadata": {},
   "source": [
    "# Intensity of point processes"
   ]
  },
  {
   "cell_type": "code",
   "execution_count": null,
   "id": "d0d5e457",
   "metadata": {},
   "outputs": [],
   "source": [
    "import numpy as np\n",
    "import pandas as pd\n",
    "import scipy as sp\n",
    "import matplotlib as mpl\n",
    "import matplotlib.pyplot as plt\n",
    "import seaborn as sns"
   ]
  },
  {
   "cell_type": "markdown",
   "id": "54a4297d",
   "metadata": {},
   "source": [
    "Functions for visualisation:"
   ]
  },
  {
   "cell_type": "code",
   "execution_count": null,
   "id": "982ec515",
   "metadata": {},
   "outputs": [],
   "source": [
    "def regular_on_rectangle(grid, random_component, x_lim, y_lim):\n",
    "    dx = (x_lim[1] - x_lim[0])/grid[0]\n",
    "    dy = (y_lim[1] - y_lim[0])/grid[1]\n",
    "    mx = np.linspace(x_lim[0] + dx/2, x_lim[1] - dx/2, grid[0])\n",
    "    my = np.linspace(y_lim[0] + dy/2, y_lim[1] - dy/2, grid[1])\n",
    "    px,py=np.meshgrid(mx,my)\n",
    "    rx = np.random.rand(grid[1],grid[0])* dx - dx/2\n",
    "    ry = np.random.rand(grid[1],grid[0])* dy - dy/2\n",
    "    px=px+random_component*rx\n",
    "    py=py+random_component*ry\n",
    "    p={'X':px.flatten(), 'Y':py.flatten()}\n",
    "    points=pd.DataFrame(p)\n",
    "    return points\n",
    "def homogeneous_poisson_on_rectangle(intensity, x_lim, y_lim):\n",
    "    a = (abs(x_lim[1]-x_lim[0]))*(abs(y_lim[1]-y_lim[0]))\n",
    "    ex = intensity*a\n",
    "    n = np.random.poisson(lam=ex, size=1)\n",
    "    nn=n[0]\n",
    "    x=np.random.rand(nn)*(x_lim[1]-x_lim[0])+x_lim[0]\n",
    "    y=np.random.rand(nn)*(y_lim[1]-y_lim[0])+y_lim[0]\n",
    "    p={\"X\":x.flatten(),\"Y\":y.flatten()}\n",
    "    points=pd.DataFrame(p)\n",
    "    return points\n",
    "def unhomogeneous_poisson_on_rectangle(intensity_function, x_lim, y_lim):\n",
    "    srx=(x_lim[0]+x_lim[1])/2\n",
    "    sry=(y_lim[0]+y_lim[1])/2\n",
    "    max_fun=sp.optimize.minimize(lambda x: -intensity_function(x), (srx, sry), bounds=((x_lim[0], x_lim[1]),(y_lim[0], y_lim[1])))\n",
    "    points=homogeneous_poisson_on_rectangle(-max_fun.fun,x_lim,y_lim)\n",
    "    points_probability=1-intensity_function([points[\"X\"],points[\"Y\"]])/-max_fun.fun\n",
    "    a=np.zeros(points[\"X\"].size)\n",
    "    for i in range(points[\"X\"].size):\n",
    "        a[i]=np.random.choice([1,0],p=[points_probability[i],1-points_probability[i]])\n",
    "    points2_a=np.where(a==0)\n",
    "    points=points.loc[points2_a]\n",
    "    return points"
   ]
  },
  {
   "cell_type": "markdown",
   "id": "d08459ac",
   "metadata": {},
   "source": [
    "## Analysis of point process' intensity via point count on subregions"
   ]
  },
  {
   "cell_type": "code",
   "execution_count": null,
   "id": "708fbba0",
   "metadata": {},
   "outputs": [],
   "source": [
    "def point_count_on_subregions(points, bins, x_lim, y_lim):\n",
    "    xlim=x_lim[1]-x_lim[0]\n",
    "    ylim=y_lim[1]-y_lim[0]\n",
    "    xforall=xlim/bins[0]\n",
    "    yforall=ylim/bins[1]\n",
    "    xpoints=np.linspace(x_lim[0], x_lim[1], bins[0]+1)\n",
    "    ypoints=np.linspace(y_lim[0], y_lim[1], bins[1]+1)\n",
    "    \n",
    "    H, xedges, yedges = np.histogram2d(points[\"X\"], points[\"Y\"], bins=(xpoints, ypoints))\n",
    "    H = H.T\n",
    "    return [xpoints,ypoints,H]"
   ]
  },
  {
   "cell_type": "code",
   "execution_count": null,
   "id": "d25d6f61",
   "metadata": {},
   "outputs": [],
   "source": [
    "def intensity_on_subregions(points, bins, x_lim, y_lim):\n",
    "    data=point_count_on_subregions(points, bins, x_lim, y_lim)\n",
    "    x = data[0]\n",
    "    y = data[1]\n",
    "    H = data[2]/((x_lim[1]-x_lim[0])*(y_lim[1]-y_lim[0]))\n",
    "    return [x,y,H] "
   ]
  },
  {
   "cell_type": "markdown",
   "id": "1c79914f",
   "metadata": {},
   "source": [
    "### Generating exemplary process"
   ]
  },
  {
   "cell_type": "code",
   "execution_count": null,
   "id": "00e90c01",
   "metadata": {},
   "outputs": [],
   "source": [
    "x_lim = [-10,10]\n",
    "y_lim = [-5,5]\n",
    "r_poisson = regular_on_rectangle([40,20], 0.5, x_lim, y_lim)\n",
    "h_poisson = homogeneous_poisson_on_rectangle(20, x_lim, y_lim)\n",
    "nh_poisson = unhomogeneous_poisson_on_rectangle(lambda x: 10*(np.cos(np.pi/4*x[0])+1), x_lim, y_lim)"
   ]
  },
  {
   "cell_type": "code",
   "execution_count": null,
   "id": "3a223ac5",
   "metadata": {},
   "outputs": [],
   "source": [
    "regions=[40,20]\n",
    "\n",
    "rp = intensity_on_subregions(r_poisson, regions, x_lim, y_lim)\n",
    "hp=intensity_on_subregions(h_poisson, regions, x_lim, y_lim)\n",
    "nhp=intensity_on_subregions(nh_poisson, regions, x_lim, y_lim)"
   ]
  },
  {
   "cell_type": "markdown",
   "id": "606bbfaf",
   "metadata": {},
   "source": [
    "### Visualisation"
   ]
  },
  {
   "cell_type": "code",
   "execution_count": null,
   "id": "cf737b43",
   "metadata": {},
   "outputs": [],
   "source": [
    "plt.rc('xtick', labelsize=10)\n",
    "plt.rc('ytick', labelsize=10)\n",
    "plt.rc('axes', labelsize=15)\n",
    "\n",
    "plots=[rp,hp,nhp]\n",
    "plot_num=[131,132,133]\n",
    "titles=[\"Regular Poisson\", \"Homogenous Poisson\", \"Unhomogenous Poisson\"]\n",
    "axList=[]\n",
    "\n",
    "fig = plt.figure(figsize=[15,8])\n",
    "fig.suptitle('Point count on subregions', fontsize=30)\n",
    "\n",
    "for i in range(3):\n",
    "    ax = fig.add_subplot(plot_num[i],aspect='equal')\n",
    "    ax.set_title(titles[i], fontsize=15)\n",
    "    plt.subplots_adjust(hspace=0.4)\n",
    "    axx=ax.pcolormesh(plots[i][0], plots[i][1], plots[i][2])\n",
    "    ax.set(xlabel='X', ylabel='Y')\n",
    "    axList.append(ax)\n",
    "    \n",
    "fig.colorbar(axx,ax=axList, orientation = 'horizontal')"
   ]
  },
  {
   "cell_type": "markdown",
   "id": "64e8dcd8",
   "metadata": {},
   "source": [
    "## Analysis of point process' intensity via kernel functions"
   ]
  },
  {
   "cell_type": "code",
   "execution_count": null,
   "id": "a11c425a",
   "metadata": {},
   "outputs": [],
   "source": [
    "def intensity_on_kde(points, kernel_radius, grid, x_lim, y_lim):\n",
    "    mx=np.linspace(x_lim[0], x_lim[1], grid[0])\n",
    "    my=np.linspace(y_lim[0], y_lim[1], grid[1])\n",
    "    px,py=np.meshgrid(mx,my)\n",
    "    pom=np.zeros(px.size)\n",
    "    px=px.flatten()\n",
    "    py=py.flatten()\n",
    "    p={'X':px, 'Y':py, 'I':pom.flatten()}\n",
    "    intensity_data=pd.DataFrame(p)\n",
    "    \n",
    "    odl_pom_w=np.zeros(points['X'].size)\n",
    "    \n",
    "    k=kernel_radius**2\n",
    "    s=3/np.pi/k\n",
    "    for i in range(intensity_data['I'].size):\n",
    "        px0=px[i]-points['X']\n",
    "        py0=py[i]-points['Y']\n",
    "        odl_pom_w=px0**2+py0**2\n",
    "        odl_pom=odl_pom_w[odl_pom_w<k]\n",
    "        intensity_data['I'][i]=sum(s*(1-odl_pom/k)**2)\n",
    "    return intensity_data"
   ]
  },
  {
   "cell_type": "markdown",
   "id": "98413eb9",
   "metadata": {},
   "source": [
    "### Generating exemplary process"
   ]
  },
  {
   "cell_type": "code",
   "execution_count": null,
   "id": "291a7eb9",
   "metadata": {},
   "outputs": [],
   "source": [
    "r=1.5\n",
    "grid=[200,100]\n",
    "x_lim = [-10,10]\n",
    "y_lim = [-5,5]\n",
    "\n",
    "intensity_data_r=intensity_on_kde(r_poisson, r, grid, x_lim, y_lim)\n",
    "intensity_data_h=intensity_on_kde(h_poisson, r, grid, x_lim, y_lim)\n",
    "intensity_data_uh=intensity_on_kde(nh_poisson, r, grid, x_lim, y_lim)"
   ]
  },
  {
   "cell_type": "markdown",
   "id": "22f151be",
   "metadata": {},
   "source": [
    "### Visualisation"
   ]
  },
  {
   "cell_type": "code",
   "execution_count": null,
   "id": "ed2eefd2",
   "metadata": {},
   "outputs": [],
   "source": [
    "fig=plt.figure(figsize=(15,8))\n",
    "fig.suptitle(\"Badanie intensywności procesu punktowego metodą funkcji jądrowych\", fontsize=20)\n",
    "\n",
    "data=[intensity_data_r, intensity_data_h,intensity_data_uh]\n",
    "plot_num=[131,132,133]\n",
    "titles=[\"Regular Poisson\", \"Homogenous Poisson\", \"Unhomogenous Poisson\"]\n",
    "axDataList=[]\n",
    "\n",
    "for i in range(3):\n",
    "    ax = fig.add_subplot(plot_num[i])\n",
    "    ax.set_aspect('equal', 'box')\n",
    "    a=ax.tricontourf(data[i][\"X\"],data[i][\"Y\"],data[i][\"I\"])\n",
    "    ax.set_title(titles[i],fontsize=15)\n",
    "    ax.set(xlabel='X',ylabel='Y')\n",
    "    axDataList.append(ax)\n",
    "    \n",
    "plt.subplots_adjust(hspace=0.4)\n",
    "fig.colorbar(a,ax=axDataList,orientation = 'horizontal')"
   ]
  },
  {
   "cell_type": "markdown",
   "id": "4dad67fd",
   "metadata": {},
   "source": [
    "## Chi-squared method"
   ]
  },
  {
   "cell_type": "code",
   "execution_count": null,
   "id": "4261422d",
   "metadata": {},
   "outputs": [],
   "source": [
    "def distribution_table(bin_counts):\n",
    "    min_ob=bin_counts.min()\n",
    "    max_ob=bin_counts.max()\n",
    "    K=np.arange(min_ob,max_ob+1)\n",
    "    n=[]\n",
    "    for i in K:\n",
    "        n.append(np.sum(bin_counts==i))\n",
    "    return pd.DataFrame({\"K\":K.flatten(), \"N(K)\":n})\n",
    "\n",
    "def poisson_distribution_table(k, mu):\n",
    "    p=sp.stats.poisson.pmf(k, mu)\n",
    "    p=p/np.sum(p)\n",
    "    return pd.DataFrame({\"K\":k, \"P(K)\":p})\n",
    "\n",
    "def pearsons_chi2_test(tested_distribution, theoretical_distribution, alpha, ddof):\n",
    "    chi_kwadrat=0\n",
    "    n=0\n",
    "    s=np.size(tested_distribution[\"K\"])\n",
    "    n=sum(tested_distribution[\"N(K)\"])\n",
    "    chi_sq=np.sum((tested_distribution[\"N(K)\"]-n*theoretical_distribution[\"P(K)\"])**2/n/theoretical_distribution[\"P(K)\"])\n",
    "    chi_sq_alpha=sp.stats.chi2.ppf(1-alpha,s-1)\n",
    "    \n",
    "    print(\"Chi-squared Pearson test\")\n",
    "    print(\"H0: Tested distribution is consistent with the theoretical distribution\")\n",
    "    print(\"H1: Tested distribution is not consistent with the theoretical distribution\")\n",
    "    print(\"chi2 = {} chi2_alfa = {}\".format(chi_sq, chi_sq_alpha))\n",
    "    if(chi_sq<chi_sq_alpha):\n",
    "        print(\"chi2 < chi2_alpha\")\n",
    "        print(\"The test results do not give the basis to reject H0 hypothesis in favor of the H1 on the alpha level = {}\".format(alpha))\n",
    "    else:\n",
    "        print(\"chi2 >= chi2_alpha\")\n",
    "        print(\"Rejection of the H0 hypothesis in favor of H1 on the alpha level = {}\".format(alpha))"
   ]
  },
  {
   "cell_type": "markdown",
   "id": "94027a94",
   "metadata": {},
   "source": [
    "### Chi-squared test on unhomogonous Poisson process"
   ]
  },
  {
   "cell_type": "code",
   "execution_count": null,
   "id": "c1059b9f",
   "metadata": {},
   "outputs": [],
   "source": [
    "count=point_count_on_subregions(nh_poisson, [40,20],[0,20],[0,10])[2].T\n",
    "dt=distribution_table(count)\n",
    "dpt=poisson_distribution_table(dt[\"K\"],20*(20*10)/(40*20))\n",
    "pearsons_chi2_test(dt, dpt, 0.05, 0)"
   ]
  },
  {
   "cell_type": "markdown",
   "id": "e2f11533",
   "metadata": {},
   "source": [
    "## Kolmogorov–Smirnov test"
   ]
  },
  {
   "cell_type": "code",
   "execution_count": null,
   "id": "2acd2801",
   "metadata": {},
   "outputs": [],
   "source": [
    "def kolmogorow_smirnow_test(tested_points, theoretical_points, alpha, ddof):\n",
    "    l_a=sp.stats.kstwobign.ppf(1-alpha)\n",
    "    D, pvalue = sp.stats.kstest(tested_points.squeeze(),theoretical_points.squeeze())\n",
    "    l = D*tested_points.size**0.5\n",
    "    print(\"Kolmogorov–Smirnov test for {} coordinate\".format(tested_points.columns[0]))\n",
    "    print(\"H0: Tested distribution is consistent with the theoretical distribution\")\n",
    "    print(\"H1: Tested distribution is not consistent with the theoretical distribution\")\n",
    "    print(\"lambda = {} lambda_alpha = {}\".format(round(l,3), round(l_a,3)))\n",
    "    if(l<l_a):\n",
    "        print(\"lambda < D_alpha\")\n",
    "        print(\"The test results do not give the basis to reject H0 hypothesis in favor of the H1 on the alpha level = {}\".format(alpha))\n",
    "    else:\n",
    "        print(\"lambda >= D_alpha\")\n",
    "        print(\"Rejection of the H0 hypothesis in favor of H1 on the alpha level = {}\".format(alpha))"
   ]
  },
  {
   "cell_type": "markdown",
   "id": "446c538f",
   "metadata": {},
   "source": [
    "### Kolmogorov–Smirnov test on unhomogonous Poisson process"
   ]
  },
  {
   "cell_type": "code",
   "execution_count": null,
   "id": "da81f961",
   "metadata": {},
   "outputs": [],
   "source": [
    "theoretical_points=np.linspace(0,20,np.size(nh_poisson[\"X\"]))\n",
    "kolmogorow_smirnow_test(nh_poisson[[\"X\"]], theoretical_points, 0.05, 0)\n",
    "print()\n",
    "theoretical_points=np.linspace(0,10,np.size(nh_poisson[\"Y\"]))\n",
    "kolmogorow_smirnow_test(nh_poisson[[\"Y\"]], theoretical_points, 0.05, 0)"
   ]
  }
 ],
 "metadata": {
  "kernelspec": {
   "display_name": "Python 3 (ipykernel)",
   "language": "python",
   "name": "python3"
  },
  "language_info": {
   "codemirror_mode": {
    "name": "ipython",
    "version": 3
   },
   "file_extension": ".py",
   "mimetype": "text/x-python",
   "name": "python",
   "nbconvert_exporter": "python",
   "pygments_lexer": "ipython3",
   "version": "3.9.12"
  }
 },
 "nbformat": 4,
 "nbformat_minor": 5
}
