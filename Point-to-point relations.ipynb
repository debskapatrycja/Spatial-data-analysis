{
 "cells": [
  {
   "cell_type": "markdown",
   "id": "fa4adbda",
   "metadata": {},
   "source": [
    "# Point - to - point relations"
   ]
  },
  {
   "cell_type": "code",
   "execution_count": null,
   "id": "e2e0d776",
   "metadata": {},
   "outputs": [],
   "source": [
    "import numpy as np\n",
    "import pandas as pd\n",
    "import scipy as sp\n",
    "import matplotlib as mpl\n",
    "import matplotlib.pyplot as plt\n",
    "import seaborn as sns"
   ]
  },
  {
   "cell_type": "markdown",
   "id": "f499ef5b",
   "metadata": {},
   "source": [
    "Functions for visualisation:"
   ]
  },
  {
   "cell_type": "code",
   "execution_count": null,
   "id": "f8353bc1",
   "metadata": {},
   "outputs": [],
   "source": [
    "def regular_on_rectangle(grid, random_component, x_lim, y_lim):\n",
    "    dx = (x_lim[1] - x_lim[0])/grid[0]\n",
    "    dy = (y_lim[1] - y_lim[0])/grid[1]\n",
    "    mx = np.linspace(x_lim[0] + dx/2, x_lim[1] - dx/2, grid[0])\n",
    "    my = np.linspace(y_lim[0] + dy/2, y_lim[1] - dy/2, grid[1])\n",
    "    px,py=np.meshgrid(mx,my)\n",
    "    rx = np.random.rand(grid[1],grid[0])* dx - dx/2\n",
    "    ry = np.random.rand(grid[1],grid[0])* dy - dy/2\n",
    "    px=px+random_component*rx\n",
    "    py=py+random_component*ry\n",
    "    p={'X':px.flatten(), 'Y':py.flatten()}\n",
    "    points=pd.DataFrame(p)\n",
    "    return points\n",
    "def homogeneous_poisson_on_rectangle(intensity, x_lim, y_lim):\n",
    "    a = (abs(x_lim[1]-x_lim[0]))*(abs(y_lim[1]-y_lim[0]))\n",
    "    ex = intensity*a\n",
    "    n = np.random.poisson(lam=ex, size=1)\n",
    "    nn=n[0]\n",
    "    x=np.random.rand(nn)*(x_lim[1]-x_lim[0])+x_lim[0]\n",
    "    y=np.random.rand(nn)*(y_lim[1]-y_lim[0])+y_lim[0]\n",
    "    p={\"X\":x.flatten(),\"Y\":y.flatten()}\n",
    "    points=pd.DataFrame(p)\n",
    "    return points\n",
    "def materna_on_rectangle(parent_intensity, daughter_intensity, cluster_radius, x_lim, y_lim):\n",
    "    x_lim2 = [0,0]\n",
    "    y_lim2 = [0,0]\n",
    "    x_lim2[0] = x_lim[0] - cluster_radius;\n",
    "    x_lim2[1] = x_lim[1] + cluster_radius;\n",
    "    y_lim2[0] = y_lim[0] - cluster_radius;\n",
    "    y_lim2[1] = y_lim[1] + cluster_radius;\n",
    "    xWym = x_lim2[1] - x_lim2[0];\n",
    "    yWym = y_lim2[1] - y_lim2[0];\n",
    "    a2 = xWym * yWym;\n",
    "    Points = np.random.poisson (a2 * parent_intensity);\n",
    "    x_P = x_lim2[0] + xWym * np.random.uniform(0, 1, Points);\n",
    "    y_P = y_lim2[0] + yWym * np.random.uniform(0, 1, Points);\n",
    "    \n",
    "    PointsCluster = np.random.poisson(daughter_intensity, Points)\n",
    "    PointsClusterSum=sum(PointsCluster)\n",
    "    \n",
    "    theta = 2 * np. pi* np.random.uniform(0, 1, PointsClusterSum);\n",
    "    ro = cluster_radius* np.sqrt(np.random.uniform(0, 1, PointsClusterSum));\n",
    "    \n",
    "    x_KO = ro*np.cos(theta);\n",
    "    y_KO = ro*np.sin(theta);\n",
    "    \n",
    "    x_P2=np.repeat(x_P, PointsCluster);\n",
    "    y_P2=np.repeat(y_P, PointsCluster);\n",
    "    \n",
    "    x_P2 = x_P2 + x_KO;\n",
    "    y_P2 = y_P2 + y_KO;\n",
    "\n",
    "    cut = ((x_P2 >= x_lim[0]) & (x_P2 <= x_lim[1]) & (y_P2 >= y_lim[0]) & (y_P2 <= y_lim[1]));\n",
    "    x_P2 = x_P2[cut];\n",
    "    y_P2 = y_P2[cut];\n",
    "    p4=pd.DataFrame({'X':x_P2, 'Y':y_P2})\n",
    "    return p4"
   ]
  },
  {
   "cell_type": "code",
   "execution_count": null,
   "id": "9ab9f96c",
   "metadata": {},
   "outputs": [],
   "source": [
    "points_HP=homogeneous_poisson_on_rectangle(2.5, [0,10], [0,10])\n",
    "points_R=regular_on_rectangle([15,15], 0.75, [0,10],[0,10])\n",
    "points_M=materna_on_rectangle(0.3, 5, 0.75, [0,10], [0,10])\n",
    "points_test=homogeneous_poisson_on_rectangle(20, [0,10], [0,10])"
   ]
  },
  {
   "cell_type": "markdown",
   "id": "ba787a24",
   "metadata": {},
   "source": [
    "## Morishita plot"
   ]
  },
  {
   "cell_type": "code",
   "execution_count": null,
   "id": "9e658225",
   "metadata": {},
   "outputs": [],
   "source": [
    "def morishita_plot_data(points, bins_list, x_lim, y_lim):\n",
    "    BD=[]\n",
    "    MI=[]\n",
    "    for i in bins_list:\n",
    "        H,y_lims,x_lims = np.histogram2d(points[\"Y\"], points[\"X\"], bins=[int(i[0]),int(i[1])],range=[[x_lim[0], x_lim[1]], [y_lim[0], y_lim[1]]])\n",
    "        r=[y_lims[1]-y_lims[0]]\n",
    "        BD.extend(r)\n",
    "        s=[i[0]*i[1]*np.sum((H*(H-1))/(points[\"X\"].size*(points[\"X\"].size-1)))]\n",
    "        MI.extend(s)\n",
    "    df=pd.DataFrame({'BD':BD,'MI':MI})\n",
    "    return df"
   ]
  },
  {
   "cell_type": "markdown",
   "id": "c2d48474",
   "metadata": {},
   "source": [
    "### Generating exeplary process"
   ]
  },
  {
   "cell_type": "code",
   "execution_count": null,
   "id": "17fe6fd8",
   "metadata": {},
   "outputs": [],
   "source": [
    "bins_list=np.linspace([2,2],[40,40],39)\n",
    "\n",
    "m_HP=morishita_plot_data(points_HP, bins_list, [0,10], [0,10])\n",
    "m_R=morishita_plot_data(points_R, bins_list, [0,10], [0,10])\n",
    "m_M=morishita_plot_data(points_M, bins_list, [0,10], [0,10])"
   ]
  },
  {
   "cell_type": "markdown",
   "id": "fa489176",
   "metadata": {},
   "source": [
    "### Visualisation"
   ]
  },
  {
   "cell_type": "code",
   "execution_count": null,
   "id": "b7786f09",
   "metadata": {},
   "outputs": [],
   "source": [
    "fig, ax=plt.subplots(2,3,figsize=(15,10))\n",
    "fig.suptitle(\"Morishita plots with original point processes\", fontsize=25)\n",
    "ax[0,0].set_title(\"Homogenous Poisson\")\n",
    "sns.scatterplot(data=points_HP,x=\"X\",y=\"Y\",ax=ax[0,0])\n",
    "ax[0,0].set_aspect('equal', 'box')\n",
    "\n",
    "ax[0,1].set_title(\"Regular Poisson\")\n",
    "sns.scatterplot(data=points_R,x=\"X\",y=\"Y\",ax=ax[0,1])\n",
    "ax[0,1].set_aspect('equal', 'box')\n",
    "\n",
    "ax[0,2].set_title(\"Materna process\")\n",
    "sns.scatterplot(data=points_M,x=\"X\",y=\"Y\",ax=ax[0,2])\n",
    "ax[0,2].set_aspect('equal', 'box')\n",
    "\n",
    "ax[1,0].set_title(\"Morishita plot - Homogenous Poisson\")\n",
    "s=sns.scatterplot(data=m_HP,x=\"BD\",y=\"MI\",ax=ax[1,0])\n",
    "s.set_ylim(-1,3)\n",
    "ax[1,0].set_aspect('equal', 'box')\n",
    "\n",
    "ax[1,1].set_title(\"Morishita plots - Regular Poisson\")\n",
    "s=sns.scatterplot(data=m_R,x=\"BD\",y=\"MI\",ax=ax[1,1])\n",
    "s.set_ylim(-1,3)\n",
    "ax[1,1].set_aspect('equal', 'box')\n",
    "\n",
    "ax[1,2].set_title(\"Morishita plots - Materna Process\")\n",
    "s=sns.scatterplot(data=m_NH,x=\"BD\",y=\"MI\",ax=ax[1,2])\n",
    "s.set_ylim(-1,3)\n",
    "ax[1,2].set_aspect('equal', 'box')"
   ]
  },
  {
   "cell_type": "markdown",
   "id": "ca8fc190",
   "metadata": {},
   "source": [
    "## Fry plot"
   ]
  },
  {
   "cell_type": "code",
   "execution_count": null,
   "id": "cd4df374",
   "metadata": {},
   "outputs": [],
   "source": [
    "def fry_plot_data(points):\n",
    "    x=[]\n",
    "    y=[]\n",
    "    for i in range(0,np.size(points[\"X\"])):\n",
    "        pom=points[\"X\"].drop(i)\n",
    "        x.extend(pom-points[\"X\"][i])\n",
    "        pom=points[\"Y\"].drop(i)\n",
    "        y.extend(pom-points[\"Y\"][i])\n",
    "    return pd.DataFrame({\"X\":x, \"Y\":y})"
   ]
  },
  {
   "cell_type": "markdown",
   "id": "800a18b3",
   "metadata": {},
   "source": [
    "### Generating exeplary process"
   ]
  },
  {
   "cell_type": "code",
   "execution_count": null,
   "id": "7421ac2e",
   "metadata": {},
   "outputs": [],
   "source": [
    "fry_HP=fry_plot_data(points_HP)\n",
    "fry_R=fry_plot_data(points_R)\n",
    "fry_M=fry_plot_data(points_M)"
   ]
  },
  {
   "cell_type": "markdown",
   "id": "3ef1e44a",
   "metadata": {},
   "source": [
    "### Visualisation"
   ]
  },
  {
   "cell_type": "code",
   "execution_count": null,
   "id": "ea169edc",
   "metadata": {},
   "outputs": [],
   "source": [
    "fig, ax=plt.subplots(2,3,figsize=(15,12))\n",
    "fig.suptitle(\"Fry plots with original point processes\", fontsize=25)\n",
    "ax[0,0].set_title(\"Homogenous Poisson\")\n",
    "sns.scatterplot(data=points_HP,x=\"X\",y=\"Y\",ax=ax[0,0])\n",
    "\n",
    "ax[0,1].set_title(\"Regular Poisson\")\n",
    "sns.scatterplot(data=points_R,x=\"X\",y=\"Y\",ax=ax[0,1])\n",
    "\n",
    "ax[0,2].set_title(\"Materna process\")\n",
    "sns.scatterplot(data=points_M,x=\"X\",y=\"Y\",ax=ax[0,2])\n",
    "\n",
    "ax[1,0].set_title(\"Fry plot - Homogenous Poisson\")\n",
    "sns.scatterplot(data=fry_HP,x=\"X\",y=\"Y\",ax=ax[1,0], alpha=0.05)\n",
    "\n",
    "ax[1,1].set_title(\"Fry plot - Regular Poisson\")\n",
    "sns.scatterplot(data=fry_R,x=\"X\",y=\"Y\",ax=ax[1,1],alpha=0.01)\n",
    "\n",
    "ax[1,2].set_title(\"Fry plot - Materna process\")\n",
    "sns.scatterplot(data=fry_M,x=\"X\",y=\"Y\",ax=ax[1,2],alpha=0.15,s=10)"
   ]
  },
  {
   "cell_type": "markdown",
   "id": "46fbde19",
   "metadata": {},
   "source": [
    "## G function"
   ]
  },
  {
   "cell_type": "code",
   "execution_count": null,
   "id": "0744bf79",
   "metadata": {},
   "outputs": [],
   "source": [
    "def g_function(points):\n",
    "    m=[]\n",
    "    g=[]\n",
    "    for i in range(points['X'].size):\n",
    "        px0=points['X'][i]-points['X'].drop(i)\n",
    "        py0=points['Y'][i]-points['Y'].drop(i)\n",
    "        odl_pom=(px0**2+py0**2)**0.5\n",
    "        m.append(odl_pom.min())\n",
    "    m=np.sort(m)\n",
    "    d=np.unique(m)\n",
    "    ss=m.size\n",
    "    for i in d:\n",
    "        s=np.sum(m<=i)\n",
    "        g.append(s/ss)\n",
    "    d=np.insert(d,0,0.0)\n",
    "    g.insert(0,0)\n",
    "    return pd.DataFrame({\"D\":d, \"G\":g})\n",
    "    \n",
    "def g_function_poisson(d, intensity):\n",
    "    g=1-np.exp(-intensity*np.pi*d*d)\n",
    "    return pd.DataFrame({\"D\":d, \"G\":g})"
   ]
  },
  {
   "cell_type": "markdown",
   "id": "7c9e0ca3",
   "metadata": {},
   "source": [
    "### Generating exeplary process"
   ]
  },
  {
   "cell_type": "code",
   "execution_count": null,
   "id": "e8ee1463",
   "metadata": {},
   "outputs": [],
   "source": [
    "p_HP_g=g_function(points_HP)\n",
    "p_R_g=g_function(points_R)\n",
    "p_M_g=g_function(points_M)\n",
    "\n",
    "p_HP_gp=g_function_poisson(p_HP_g[\"D\"],2.5)\n",
    "p_R_gp=g_function_poisson(p_R_g[\"D\"],2.5)\n",
    "p_M_gp=g_function_poisson(p_M_g[\"D\"],2.5)"
   ]
  },
  {
   "cell_type": "markdown",
   "id": "b1c2b1b1",
   "metadata": {},
   "source": [
    "### Visualisation"
   ]
  },
  {
   "cell_type": "code",
   "execution_count": null,
   "id": "4ba00053",
   "metadata": {},
   "outputs": [],
   "source": [
    "fig, ax=plt.subplots(2,3,figsize=(15,15))\n",
    "fig.suptitle(\"G function\", fontsize=25)\n",
    "\n",
    "ax[0,0].set_title(\"Homogenous Poisson\")\n",
    "sns.scatterplot(data=points_HP,x=\"X\",y=\"Y\",ax=ax[0,0])\n",
    "\n",
    "ax[0,1].set_title(\"Regular Poisson\")\n",
    "sns.scatterplot(data=points_R,x=\"X\",y=\"Y\",ax=ax[0,1])\n",
    "\n",
    "ax[0,2].set_title(\"Materna process\")\n",
    "sns.scatterplot(data=points_M,x=\"X\",y=\"Y\",ax=ax[0,2])\n",
    "\n",
    "\n",
    "ax[1,0].set_title(\"G function - Homogenous Poisson\")\n",
    "sns.lineplot(data=p_HP_gp,x=\"D\",y=\"G\",ax=ax[1,0])\n",
    "sns.lineplot(data=p_HP_g,x=\"D\",y=\"G\",ax=ax[1,0])\n",
    "ax[1,0].legend([\"theoretical G function\",\"G function for evaluated points\"])\n",
    "\n",
    "ax[1,1].set_title(\"G function - Regular Poisson\")\n",
    "sns.lineplot(data=p_R_gp,x=\"D\",y=\"G\",ax=ax[1,1])\n",
    "sns.lineplot(data=p_R_g,x=\"D\",y=\"G\",ax=ax[1,1])\n",
    "ax[1,1].legend([\"theoretical G function\",\"G function for evaluated points\"])\n",
    "\n",
    "ax[1,2].set_title(\"G function - Materna process\")\n",
    "sns.lineplot(data=p_M_gp,x=\"D\",y=\"G\",ax=ax[1,2])\n",
    "sns.lineplot(data=p_M_g,x=\"D\",y=\"G\",ax=ax[1,2])\n",
    "ax[1,2].legend([\"theoretical G function\",\"G function for evaluated points\"])"
   ]
  },
  {
   "cell_type": "markdown",
   "id": "0a4c8e8d",
   "metadata": {},
   "source": [
    "## F function"
   ]
  },
  {
   "cell_type": "code",
   "execution_count": null,
   "id": "c2bece30",
   "metadata": {},
   "outputs": [],
   "source": [
    "def f_function(points, test_points):\n",
    "    m = []\n",
    "    f = []\n",
    "    for i in range(test_points['X'].size):\n",
    "        x_t = test_points[\"X\"][i] - points[\"X\"]\n",
    "        y_t = test_points[\"Y\"][i] - points[\"Y\"]\n",
    "        euk = (x_t**2 + y_t**2)**0.5\n",
    "        m.append(euk.min())\n",
    "    m=np.sort(m)\n",
    "    d=np.unique(m)\n",
    "    ss=m.size\n",
    "    for i in d:\n",
    "        s=np.sum(m<=i)\n",
    "        f.append(s/ss)\n",
    "    d=np.insert(d,0,0.0)\n",
    "    f.insert(0,0)\n",
    "    return pd.DataFrame({\"D\":d, \"F\":f})\n",
    "    \n",
    "def f_function_poisson(d, intensity):\n",
    "    f=1-np.exp(-intensity*np.pi*d*d)\n",
    "    return pd.DataFrame({\"D\":d, \"F\":f})"
   ]
  },
  {
   "cell_type": "markdown",
   "id": "5795dc2b",
   "metadata": {},
   "source": [
    "### Generating exeplary process"
   ]
  },
  {
   "cell_type": "code",
   "execution_count": null,
   "id": "54c5c707",
   "metadata": {},
   "outputs": [],
   "source": [
    "p_HP_f=f_function(points_HP,points_test)\n",
    "p_R_f=f_function(points_R,points_test)\n",
    "p_M_f=f_function(points_M,points_test)\n",
    "\n",
    "p_HP_fp=f_function_poisson(p_HP_f[\"D\"],2.5)\n",
    "p_R_fp=f_function_poisson(p_R_f[\"D\"],2.5)\n",
    "p_M_fp=f_function_poisson(p_M_f[\"D\"],2.5)"
   ]
  },
  {
   "cell_type": "markdown",
   "id": "2ec0a94e",
   "metadata": {},
   "source": [
    "### Visualisation"
   ]
  },
  {
   "cell_type": "code",
   "execution_count": null,
   "id": "ed8749d5",
   "metadata": {},
   "outputs": [],
   "source": [
    "fig, ax=plt.subplots(2,3,figsize=(15,12))\n",
    "fig.suptitle(\"F function\", fontsize=25)\n",
    "ax[0,0].set_title(\"Homogenous Poisson\")\n",
    "sns.scatterplot(data=points_HP,x=\"X\",y=\"Y\",ax=ax[0,0])\n",
    "\n",
    "\n",
    "ax[0,1].set_title(\"Regular Poisson\")\n",
    "sns.scatterplot(data=points_R,x=\"X\",y=\"Y\",ax=ax[0,1])\n",
    "\n",
    "ax[0,2].set_title(\"Materna process\")\n",
    "sns.scatterplot(data=points_M,x=\"X\",y=\"Y\",ax=ax[0,2])\n",
    "\n",
    "ax[1,0].set_title(\"F function - Homogenous Poisson\")\n",
    "sns.lineplot(data=p_HP_fp,x=\"D\",y=\"F\",ax=ax[1,0])\n",
    "sns.lineplot(data=p_HP_f,x=\"D\",y=\"F\",ax=ax[1,0])\n",
    "ax[1,0].legend([\"theoretical F function\",\"F function for evaluated points\"])\n",
    "\n",
    "ax[1,1].set_title(\"F function - Regular Poisson\")\n",
    "sns.lineplot(data=p_R_fp,x=\"D\",y=\"F\",ax=ax[1,1])\n",
    "sns.lineplot(data=p_R_f,x=\"D\",y=\"F\",ax=ax[1,1])\n",
    "ax[1,1].legend([\"theoretical F function\",\"F function for evaluated points\"])\n",
    "\n",
    "ax[1,2].set_title(\"F function - Materna process\")\n",
    "sns.lineplot(data=p_M_fp,x=\"D\",y=\"F\",ax=ax[1,2])\n",
    "sns.lineplot(data=p_M_f,x=\"D\",y=\"F\",ax=ax[1,2])\n",
    "ax[1,2].legend([\"theoretical F function\",\"F function for evaluated points\"])"
   ]
  }
 ],
 "metadata": {
  "kernelspec": {
   "display_name": "Python 3 (ipykernel)",
   "language": "python",
   "name": "python3"
  },
  "language_info": {
   "codemirror_mode": {
    "name": "ipython",
    "version": 3
   },
   "file_extension": ".py",
   "mimetype": "text/x-python",
   "name": "python",
   "nbconvert_exporter": "python",
   "pygments_lexer": "ipython3",
   "version": "3.9.12"
  }
 },
 "nbformat": 4,
 "nbformat_minor": 5
}
